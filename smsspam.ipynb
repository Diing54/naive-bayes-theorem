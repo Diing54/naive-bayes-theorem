{
 "cells": [
  {
   "cell_type": "code",
   "execution_count": 2,
   "id": "c264f681",
   "metadata": {},
   "outputs": [],
   "source": [
    "#importing necessary libraries\n",
    "import pandas as pd\n",
    "import re\n",
    "import string\n",
    "from collections import defaultdict\n",
    "import math\n",
    "from sklearn.model_selection import train_test_split\n"
   ]
  },
  {
   "cell_type": "code",
   "execution_count": 3,
   "id": "674b95cf",
   "metadata": {},
   "outputs": [],
   "source": [
    "#Loading the dataset\n",
    "\n",
    "url = \"https://raw.githubusercontent.com/justmarkham/pycon-2016-tutorial/master/data/sms.tsv\"\n",
    "df = pd.read_csv(url, sep=\"\\t\", header=None, names=[\"label\", \"message\"])\n",
    "df[\"label\"] = df[\"label\"].map({\"ham\": 0, \"spam\": 1})  # Convert to binary\n"
   ]
  },
  {
   "cell_type": "code",
   "execution_count": 4,
   "id": "d43b4d36",
   "metadata": {},
   "outputs": [],
   "source": [
    "#preprocessing\n",
    "\n",
    "def preprocess(text):\n",
    "    text = text.lower()\n",
    "    text = re.sub(f\"[{string.punctuation}]\", \"\", text)  # remove punctuation\n",
    "    return text.split()\n",
    "\n",
    "df[\"tokens\"] = df[\"message\"].apply(preprocess)\n"
   ]
  },
  {
   "cell_type": "code",
   "execution_count": 5,
   "id": "2a1e4bc2",
   "metadata": {},
   "outputs": [],
   "source": [
    "# Splitting the data\n",
    "\n",
    "train_data, test_data = train_test_split(df, test_size=0.2, random_state=42)"
   ]
  },
  {
   "cell_type": "code",
   "execution_count": 6,
   "id": "3732b13e",
   "metadata": {},
   "outputs": [],
   "source": [
    "\n",
    "#  Naive bayes classifier\n",
    "\n",
    "class NaiveBayesClassifier:\n",
    "    def __init__(self):\n",
    "        self.word_freqs = {0: defaultdict(int), 1: defaultdict(int)}\n",
    "        self.class_counts = defaultdict(int)\n",
    "        self.vocab = set()\n",
    "    \n",
    "    def train(self, data):\n",
    "        for i, row in data.iterrows():\n",
    "            label = row[\"label\"]\n",
    "            tokens = row[\"tokens\"]\n",
    "            self.class_counts[label] += 1\n",
    "            for word in tokens:\n",
    "                self.word_freqs[label][word] += 1\n",
    "                self.vocab.add(word)\n",
    "    \n",
    "    def predict(self, tokens):\n",
    "        total_docs = sum(self.class_counts.values())\n",
    "        log_probs = {}\n",
    "        \n",
    "        for c in [0, 1]:  # 0 = ham, 1 = spam\n",
    "            log_prob = math.log(self.class_counts[c] / total_docs)\n",
    "            total_words = sum(self.word_freqs[c].values())\n",
    "            \n",
    "            for word in tokens:\n",
    "                word_count = self.word_freqs[c][word]\n",
    "                prob = (word_count + 1) / (total_words + len(self.vocab))  # Laplace smoothing\n",
    "                log_prob += math.log(prob)\n",
    "            \n",
    "            log_probs[c] = log_prob\n",
    "        \n",
    "        return 1 if log_probs[1] > log_probs[0] else 0\n",
    "\n",
    "    def evaluate(self, test_data):\n",
    "        correct = 0\n",
    "        total = len(test_data)\n",
    "        for _, row in test_data.iterrows():\n",
    "            prediction = self.predict(row[\"tokens\"])\n",
    "            if prediction == row[\"label\"]:\n",
    "                correct += 1\n",
    "        return correct / total"
   ]
  },
  {
   "cell_type": "code",
   "execution_count": 7,
   "id": "0f0f50f9",
   "metadata": {},
   "outputs": [
    {
     "name": "stdout",
     "output_type": "stream",
     "text": [
      "\n",
      "✅ Accuracy: 0.9803\n"
     ]
    }
   ],
   "source": [
    "# Training \n",
    "\n",
    "nb = NaiveBayesClassifier()\n",
    "nb.train(train_data)\n",
    "\n",
    "accuracy = nb.evaluate(test_data)\n",
    "print(f\"\\n\\u2705 Accuracy: {accuracy:.4f}\")"
   ]
  },
  {
   "cell_type": "code",
   "execution_count": 12,
   "id": "3ecfbb4c",
   "metadata": {},
   "outputs": [
    {
     "name": "stdout",
     "output_type": "stream",
     "text": [
      "\n",
      "Sample Message: 'Click the link below to win a brand new iphone'\n",
      "Prediction: spam\n"
     ]
    }
   ],
   "source": [
    "#Sample prediction \n",
    "\n",
    "\n",
    "def predict_sample_message(message):\n",
    "    cleaned = preprocess(message)\n",
    "    prediction = nb.predict(cleaned)\n",
    "    return \"spam\" if prediction == 1 else \"ham\"\n",
    "\n",
    "# Example sample message\n",
    "sample_message = \"Click the link below to win a brand new iphone\"\n",
    "prediction = predict_sample_message(sample_message)\n",
    "\n",
    "print(f\"\\nSample Message: '{sample_message}'\")\n",
    "print(f\"Prediction: {prediction}\")\n"
   ]
  }
 ],
 "metadata": {
  "kernelspec": {
   "display_name": "new_env",
   "language": "python",
   "name": "python3"
  },
  "language_info": {
   "codemirror_mode": {
    "name": "ipython",
    "version": 3
   },
   "file_extension": ".py",
   "mimetype": "text/x-python",
   "name": "python",
   "nbconvert_exporter": "python",
   "pygments_lexer": "ipython3",
   "version": "3.12.9"
  }
 },
 "nbformat": 4,
 "nbformat_minor": 5
}
